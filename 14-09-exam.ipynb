{
 "cells": [
  {
   "cell_type": "markdown",
   "metadata": {},
   "source": [
    "1.Print 3-digits numbers Sum - For a given list of numbers, print the sum of all 3-digit numbers.\n",
    "Input Format \n",
    "Single line containing a list of space-separated numbers.\n",
    "Output Format\n",
    "Print the sum of 3-digit numbers in the given list.\n",
    "Sample Input Sample Output\n",
    "100 200 4 100 400 800"
   ]
  },
  {
   "cell_type": "code",
   "execution_count": 2,
   "metadata": {},
   "outputs": [
    {
     "name": "stdout",
     "output_type": "stream",
     "text": [
      "100 99 200 18 300\n",
      "600\n"
     ]
    }
   ],
   "source": [
    "a=list(map(int,input().split()))\n",
    "sum=0\n",
    "for i in range(len(a)):\n",
    "    if(a[i]>99 and a[i]<1000):\n",
    "        sum=sum+a[i]\n",
    "print(sum)        \n",
    "    "
   ]
  },
  {
   "cell_type": "code",
   "execution_count": null,
   "metadata": {},
   "outputs": [],
   "source": [
    "#2.. Digits Reverse\n",
    "You are given a number. You need to print digits of the number in reverse order.\n",
    "Input Format\n",
    "Input is a number\n",
    "Out Format\n",
    "Print the output line by line\n",
    "Sample Input Sample Output\n",
    "675 \n",
    "5\n",
    "7\n",
    "6\n"
   ]
  },
  {
   "cell_type": "code",
   "execution_count": 3,
   "metadata": {},
   "outputs": [
    {
     "name": "stdout",
     "output_type": "stream",
     "text": [
      "1234\n",
      "4\n",
      "3\n",
      "2\n",
      "1\n"
     ]
    }
   ],
   "source": [
    "n=int(input())\n",
    "s=str(n)\n",
    "r=s[::-1]   \n",
    "for i in r:\n",
    "      print(i)"
   ]
  },
  {
   "cell_type": "markdown",
   "metadata": {},
   "source": [
    "3. Formatted Mobile Number \n",
    "\n",
    "You are given N mobile numbers.\n",
    "\n",
    "Print them in the standard format shown below:\n",
    "\n",
    "+91 - (XXX)-XXX-XXXX\n",
    "\n",
    "The given mobile numbers may have +91,91 or 0 written before the actual 10 digit number. Alternatively, there may not be any prefix at all.\n",
    "\n",
    "Input Format\n",
    "\n",
    "First line of input is a number which indicates how many lines of input needs to read. Next lines contains mobile numbers.\n",
    "\n",
    "Output Format\n",
    "\n",
    "Print the mobile numbers in the above format line by line.\n",
    "\n",
    "Sample Input                                                                                                                                        Sample Output\n",
    "\n",
    "3\n",
    "\n",
    "07895462130                                                                                                                                   +91-(789)-546-2130\n",
    "\n",
    "919875641230                                                                                                                                +91-(919)-596-9878\n",
    "\n",
    "9195969878                                                                                                                                      +91-(987)-564-1230"
   ]
  },
  {
   "cell_type": "code",
   "execution_count": null,
   "metadata": {},
   "outputs": [],
   "source": [
    "t=int(input())\n",
    "for i in range(t):\n",
    "    phonenum=input()\n",
    "    new=phonenum[-10:]\n",
    "    last=\"+91\"+'-('+new[:3]+')'+'-'+new[3:6]+'-'+new[6:]\n",
    "    print(last)"
   ]
  },
  {
   "cell_type": "markdown",
   "metadata": {},
   "source": [
    "4.  String Repetition\n",
    "\n",
    "You just need to take a string and a integer as an input and repeat the string up to the count given as in integer.\n",
    "\n",
    "Input Format\n",
    "\n",
    "You will be taking a string and an integer as an input from stdin.\n",
    "\n",
    "Constraints\n",
    "\n",
    "1 <= |S| <=1000\n",
    "\n",
    "1 <= N <= 100\n",
    "\n",
    "Output Format\n",
    "\n",
    "You need to print the string.\n",
    "\n",
    "Sample Input                                                                                                                                    Sample Output\n",
    "\n",
    "Hello                                                                                                                                                      HelloHello\n",
    "\n",
    "2\n"
   ]
  },
  {
   "cell_type": "code",
   "execution_count": null,
   "metadata": {},
   "outputs": [],
   "source": [
    "n=int(input())\n",
    "s=input()\n",
    "print(n*s,end=\" \")"
   ]
  },
  {
   "cell_type": "code",
   "execution_count": null,
   "metadata": {},
   "outputs": [],
   "source": []
  }
 ],
 "metadata": {
  "kernelspec": {
   "display_name": "Python 3",
   "language": "python",
   "name": "python3"
  },
  "language_info": {
   "codemirror_mode": {
    "name": "ipython",
    "version": 3
   },
   "file_extension": ".py",
   "mimetype": "text/x-python",
   "name": "python",
   "nbconvert_exporter": "python",
   "pygments_lexer": "ipython3",
   "version": "3.7.3"
  }
 },
 "nbformat": 4,
 "nbformat_minor": 2
}
