{
 "cells": [
  {
   "cell_type": "markdown",
   "metadata": {},
   "source": [
    "# conditional statements"
   ]
  },
  {
   "cell_type": "markdown",
   "metadata": {},
   "source": [
    "1.if statement"
   ]
  },
  {
   "cell_type": "code",
   "execution_count": 1,
   "metadata": {},
   "outputs": [
    {
     "name": "stdout",
     "output_type": "stream",
     "text": [
      "Enter marks:40\n"
     ]
    }
   ],
   "source": [
    "marks=int(input(\"Enter marks:\"))\n",
    "passing=50\n",
    "distinction=90    "
   ]
  },
  {
   "cell_type": "code",
   "execution_count": 3,
   "metadata": {},
   "outputs": [
    {
     "name": "stdout",
     "output_type": "stream",
     "text": [
      "you r fail\n"
     ]
    }
   ],
   "source": [
    "if marks>=distinction:\n",
    "    print(\"your are excellent\")\n",
    "if marks>=passing and marks<distinction:\n",
    "    print(\"you pass\")\n",
    "if marks<passing:\n",
    "    print(\"you r fail\")"
   ]
  },
  {
   "cell_type": "code",
   "execution_count": 6,
   "metadata": {},
   "outputs": [
    {
     "name": "stdout",
     "output_type": "stream",
     "text": [
      "Bad review\n"
     ]
    }
   ],
   "source": [
    "statement=\"The coffee is bad\"\n",
    "if \"bad\" in statement:\n",
    "        print(\"Bad review\")\n",
    "statement=\"i am very good\"\n",
    "if \"bad\" in statement:\n",
    "        print(\"good review\")"
   ]
  },
  {
   "cell_type": "code",
   "execution_count": 8,
   "metadata": {},
   "outputs": [
    {
     "data": {
      "text/plain": [
       "False"
      ]
     },
     "execution_count": 8,
     "metadata": {},
     "output_type": "execute_result"
    }
   ],
   "source": [
    "'a' in \"hello\""
   ]
  },
  {
   "cell_type": "code",
   "execution_count": 11,
   "metadata": {},
   "outputs": [
    {
     "name": "stdout",
     "output_type": "stream",
     "text": [
      "Flase\n"
     ]
    }
   ],
   "source": [
    "if None:\n",
    "    print(\"True\")\n",
    "else:\n",
    "    print(\"Flase\")"
   ]
  },
  {
   "cell_type": "code",
   "execution_count": 13,
   "metadata": {},
   "outputs": [
    {
     "name": "stdout",
     "output_type": "stream",
     "text": [
      "Enter a number5\n",
      "Odd\n"
     ]
    }
   ],
   "source": [
    "n=int(input(\"Enter a number\"))\n",
    "if n%2==0:\n",
    "    print(\"Even\")\n",
    "else:\n",
    "    print(\"Odd\")"
   ]
  },
  {
   "cell_type": "markdown",
   "metadata": {},
   "source": [
    "# if a number is even should be check divisible by 4 and if a number is odd check divisible by 3 or not"
   ]
  },
  {
   "cell_type": "code",
   "execution_count": 2,
   "metadata": {},
   "outputs": [
    {
     "name": "stdout",
     "output_type": "stream",
     "text": [
      "Enter a number8\n",
      "even and divisble by 4\n"
     ]
    }
   ],
   "source": [
    "n=int(input(\"Enter a number\"))\n",
    "if n%2==0:\n",
    "    if(n%4==0):\n",
    "        print(\"even and divisble by 4\")\n",
    "    else:\n",
    "        print(\"even but not divisible by 4\")\n",
    "else:\n",
    "    if(n%3==0):\n",
    "        print(\"odd and divisible by 3\")\n",
    "    else:\n",
    "        print(\"odd but not divisible by 4 \")"
   ]
  },
  {
   "cell_type": "markdown",
   "metadata": {},
   "source": [
    "leap year or not"
   ]
  },
  {
   "cell_type": "code",
   "execution_count": 1,
   "metadata": {},
   "outputs": [
    {
     "name": "stdout",
     "output_type": "stream",
     "text": [
      "Enter the year3000\n",
      "not a leap year\n"
     ]
    }
   ],
   "source": [
    "n=int(input(\"Enter the year\"))\n",
    "if(n%400==0) or (n%4==0 and n%100!=0):\n",
    "    print(\"Leap year\")\n",
    "else:\n",
    "    print(\"not a leap year\")"
   ]
  },
  {
   "cell_type": "markdown",
   "metadata": {},
   "source": [
    "check a number exist in given range(inclusive)\n"
   ]
  },
  {
   "cell_type": "markdown",
   "metadata": {},
   "source": [
    "upperbound=70\n",
    "lowerbound=150\n",
    "n1=int(input(\"Enter a number\"))\n",
    "if(n1>=upperbound and n1<=lowerbound):\n",
    "    print(\"The given num in given range\")\n",
    "else:\n",
    "    print(\"not in given range\")"
   ]
  },
  {
   "cell_type": "markdown",
   "metadata": {},
   "source": [
    " if a number is factor of 100"
   ]
  },
  {
   "cell_type": "code",
   "execution_count": 7,
   "metadata": {},
   "outputs": [
    {
     "name": "stdout",
     "output_type": "stream",
     "text": [
      "Enter a number50\n",
      "given num is factor of 100\n"
     ]
    }
   ],
   "source": [
    "n=int(input(\"Enter a number\"))\n",
    "if(100%n==0):\n",
    "    print(\"given num is factor of 100\")\n",
    "else:\n",
    "    print(\"Given num is not a factor of 100\")\n",
    "    "
   ]
  },
  {
   "cell_type": "code",
   "execution_count": 9,
   "metadata": {},
   "outputs": [
    {
     "name": "stdout",
     "output_type": "stream",
     "text": [
      "Enter a number5\n",
      "not a multiple of 10\n"
     ]
    }
   ],
   "source": [
    "n=int(input(\"Enter a number\"))\n",
    "if(n%10==0):\n",
    "    print(\"Given num multiple of 10\")\n",
    "else:\n",
    "    print(\"not a multiple of 10\")"
   ]
  },
  {
   "cell_type": "code",
   "execution_count": 4,
   "metadata": {},
   "outputs": [
    {
     "name": "stdout",
     "output_type": "stream",
     "text": [
      "Enter the year64\n",
      "leap year\n",
      "nano seconds 31622400000000000\n"
     ]
    }
   ],
   "source": [
    "n=int(input(\"Enter the year\"))\n",
    "if(n%400==0) or (n%4==0 and n%100!=0):\n",
    "   print(\"leap year\") \n",
    "   d=366*24*60*60*10**9\n",
    "print (\"nano seconds\",d)"
   ]
  },
  {
   "cell_type": "markdown",
   "metadata": {},
   "source": [
    "check if given string equal to a  number"
   ]
  },
  {
   "cell_type": "code",
   "execution_count": 8,
   "metadata": {},
   "outputs": [
    {
     "name": "stdout",
     "output_type": "stream",
     "text": [
      "not equal\n"
     ]
    }
   ],
   "source": [
    "number=123456\n",
    "st=\"python\"\n",
    "if(str(number))==st:\n",
    "    print(\"Equal\")\n",
    "else:\n",
    "    print(\"not equal\")"
   ]
  },
  {
   "cell_type": "markdown",
   "metadata": {},
   "source": [
    "find greatest of 3 numbers using elif\n"
   ]
  },
  {
   "cell_type": "code",
   "execution_count": 9,
   "metadata": {},
   "outputs": [
    {
     "name": "stdout",
     "output_type": "stream",
     "text": [
      "Enter a number5\n",
      "Enter sec number1\n",
      "Enter thrid number0\n",
      "n is large\n"
     ]
    }
   ],
   "source": [
    "n=int(input(\"Enter a number\"))\n",
    "o=int(input(\"Enter sec number\"))\n",
    "p=int(input(\"Enter thrid number\"))\n",
    "if(n>o and n>p):\n",
    "        print(\"n is large\")\n",
    "elif(o>n and o>p):\n",
    "        print(\"o is large\")\n",
    "else:\n",
    "        print(\"p is large\")"
   ]
  },
  {
   "cell_type": "markdown",
   "metadata": {},
   "source": [
    "take a number from the keybord\n",
    "check the num is pos or neg or zero"
   ]
  },
  {
   "cell_type": "code",
   "execution_count": 10,
   "metadata": {},
   "outputs": [
    {
     "name": "stdout",
     "output_type": "stream",
     "text": [
      "Enter a number-3\n",
      "neg\n"
     ]
    }
   ],
   "source": [
    "n=int(input(\"Enter a number\"))\n",
    "if(n>0):\n",
    "    if(n==0):\n",
    "        print(0)\n",
    "    else:\n",
    "        print(\"pos\")\n",
    "else:\n",
    "    print(\"neg\")\n",
    "        "
   ]
  },
  {
   "cell_type": "markdown",
   "metadata": {},
   "source": [
    "square root of number"
   ]
  },
  {
   "cell_type": "code",
   "execution_count": null,
   "metadata": {},
   "outputs": [],
   "source": [
    "import math\n",
    "n=int(input(\"Enter a  number\"))\n",
    "math.sqrt(n)"
   ]
  },
  {
   "cell_type": "code",
   "execution_count": 2,
   "metadata": {},
   "outputs": [
    {
     "data": {
      "text/plain": [
       "6"
      ]
     },
     "execution_count": 2,
     "metadata": {},
     "output_type": "execute_result"
    }
   ],
   "source": [
    "n=123456\n",
    "len(str(n))\n"
   ]
  },
  {
   "cell_type": "code",
   "execution_count": 6,
   "metadata": {},
   "outputs": [
    {
     "data": {
      "text/plain": [
       "True"
      ]
     },
     "execution_count": 6,
     "metadata": {},
     "output_type": "execute_result"
    }
   ],
   "source": [
    "def pallindrome (s):\n",
    "    if s==s[::-1]:\n",
    "        return True\n",
    "    else:\n",
    "        return False\n",
    "pallindrome(\"madam\")    "
   ]
  },
  {
   "cell_type": "code",
   "execution_count": 7,
   "metadata": {},
   "outputs": [
    {
     "data": {
      "text/plain": [
       "True"
      ]
     },
     "execution_count": 7,
     "metadata": {},
     "output_type": "execute_result"
    }
   ],
   "source": [
    "def leapyear(n):\n",
    "    if(n%400==0) or (n%4==0 and n%100!=0):\n",
    "        return True\n",
    "    else:\n",
    "        return False\n",
    "leapyear(2000)    "
   ]
  },
  {
   "cell_type": "markdown",
   "metadata": {},
   "source": [
    "function to count the number digits in number\n",
    "identify largest number in given 4 numbers"
   ]
  },
  {
   "cell_type": "code",
   "execution_count": 18,
   "metadata": {},
   "outputs": [
    {
     "data": {
      "text/plain": [
       "3"
      ]
     },
     "execution_count": 18,
     "metadata": {},
     "output_type": "execute_result"
    }
   ],
   "source": [
    "def countofnum(n):\n",
    "    c=len(str(n))\n",
    "    return c\n",
    "countofnum(123)"
   ]
  },
  {
   "cell_type": "code",
   "execution_count": 21,
   "metadata": {},
   "outputs": [
    {
     "data": {
      "text/plain": [
       "12"
      ]
     },
     "execution_count": 21,
     "metadata": {},
     "output_type": "execute_result"
    }
   ],
   "source": [
    "def gratestnum(n1,n2,n3,n4):\n",
    "    if(n1>n2 and n1>n3 and n1>n4):\n",
    "        return n1\n",
    "    elif(n2>n3 and n2>n4):\n",
    "        return n2\n",
    "    elif(n3>n4):\n",
    "        return n3\n",
    "    else:\n",
    "        return n4\n",
    "gratestnum(12,3,0,-1)    "
   ]
  },
  {
   "cell_type": "markdown",
   "metadata": {},
   "source": [
    "Recursion\n",
    "    a function call it self "
   ]
  },
  {
   "cell_type": "markdown",
   "metadata": {},
   "source": []
  },
  {
   "cell_type": "code",
   "execution_count": 24,
   "metadata": {},
   "outputs": [
    {
     "data": {
      "text/plain": [
       "120"
      ]
     },
     "execution_count": 24,
     "metadata": {},
     "output_type": "execute_result"
    }
   ],
   "source": [
    "def factorial(n):\n",
    "    fact=1\n",
    "    for i in range(2,n+1):\n",
    "        fact*=i\n",
    "    return fact\n",
    "factorial(5)"
   ]
  },
  {
   "cell_type": "markdown",
   "metadata": {},
   "source": [
    "# Tasks in my Website\n",
    "\n",
    "\n",
    "# Iteration/Loops"
   ]
  },
  {
   "cell_type": "code",
   "execution_count": 1,
   "metadata": {},
   "outputs": [
    {
     "data": {
      "text/plain": [
       "range(0, 5)"
      ]
     },
     "execution_count": 1,
     "metadata": {},
     "output_type": "execute_result"
    }
   ],
   "source": [
    "range(5)#0,1,2,3,4"
   ]
  },
  {
   "cell_type": "markdown",
   "metadata": {},
   "source": [
    "1)For loop"
   ]
  },
  {
   "cell_type": "code",
   "execution_count": 4,
   "metadata": {},
   "outputs": [
    {
     "name": "stdout",
     "output_type": "stream",
     "text": [
      "0\n",
      "1\n",
      "2\n",
      "3\n",
      "4\n"
     ]
    }
   ],
   "source": [
    "for i in range(5):\n",
    "    print(i)"
   ]
  },
  {
   "cell_type": "code",
   "execution_count": null,
   "metadata": {},
   "outputs": [],
   "source": []
  },
  {
   "cell_type": "code",
   "execution_count": 6,
   "metadata": {},
   "outputs": [
    {
     "name": "stdout",
     "output_type": "stream",
     "text": [
      "H\n",
      "e\n",
      "l\n",
      "l\n",
      "o\n"
     ]
    }
   ],
   "source": [
    "s1=\"Hello\"\n",
    "for i in s1:\n",
    "    print(i)"
   ]
  },
  {
   "cell_type": "code",
   "execution_count": 7,
   "metadata": {},
   "outputs": [
    {
     "name": "stdout",
     "output_type": "stream",
     "text": [
      "H,e,l,l,o,"
     ]
    }
   ],
   "source": [
    "#print hello in single line seperated by,\n",
    "for i in s1:\n",
    "    print(i,end=',')\n",
    "\n",
    "    "
   ]
  },
  {
   "cell_type": "code",
   "execution_count": 10,
   "metadata": {},
   "outputs": [
    {
     "name": "stdout",
     "output_type": "stream",
     "text": [
      "s\n",
      "s,,\n",
      ",,u\n",
      "u,,\n",
      ",,b\n",
      "b,,\n",
      ",,h\n",
      "h,,\n",
      ",,a\n",
      "a,"
     ]
    }
   ],
   "source": [
    "s2=\"s,u,b,h,a\"\n",
    "for i in s2:\n",
    "  print(i,sep=\",\")\n"
   ]
  },
  {
   "cell_type": "code",
   "execution_count": 11,
   "metadata": {},
   "outputs": [
    {
     "name": "stdout",
     "output_type": "stream",
     "text": [
      "s,,,u,,,b,,,h,,,a,"
     ]
    }
   ],
   "source": [
    "s2=\"s,u,b,h,a\"\n",
    "for i in s2:\n",
    "  print(i,end=\",\")\n"
   ]
  },
  {
   "cell_type": "code",
   "execution_count": 12,
   "metadata": {},
   "outputs": [
    {
     "name": "stdout",
     "output_type": "stream",
     "text": [
      "43.56\n"
     ]
    }
   ],
   "source": [
    "print(43,56,sep=\".\")"
   ]
  },
  {
   "cell_type": "code",
   "execution_count": 13,
   "metadata": {},
   "outputs": [
    {
     "name": "stdout",
     "output_type": "stream",
     "text": [
      "43 56."
     ]
    }
   ],
   "source": [
    "print(43,56,end=\".\")"
   ]
  },
  {
   "cell_type": "code",
   "execution_count": 16,
   "metadata": {},
   "outputs": [
    {
     "name": "stdout",
     "output_type": "stream",
     "text": [
      "2 4 6 8 10 "
     ]
    }
   ],
   "source": [
    "for i in range(1,11):\n",
    "    if i%2==0:\n",
    "        print(i,end=\" \")"
   ]
  },
  {
   "cell_type": "code",
   "execution_count": 17,
   "metadata": {},
   "outputs": [
    {
     "name": "stdout",
     "output_type": "stream",
     "text": [
      "2 4 6 8 10 "
     ]
    }
   ],
   "source": [
    "for i in range(2,11,2):\n",
    "        print(i,end=\" \")\n"
   ]
  },
  {
   "cell_type": "code",
   "execution_count": 20,
   "metadata": {},
   "outputs": [
    {
     "name": "stdout",
     "output_type": "stream",
     "text": [
      "1\n",
      "3\n",
      "5\n",
      "7\n",
      "9\n"
     ]
    }
   ],
   "source": [
    "for i in range(1,11,2):\n",
    "    print(i,sep=\" \")"
   ]
  },
  {
   "cell_type": "markdown",
   "metadata": {},
   "source": [
    "starting value should be 7 and end value sshould be 1000 and diff=7"
   ]
  },
  {
   "cell_type": "code",
   "execution_count": 29,
   "metadata": {},
   "outputs": [
    {
     "name": "stdout",
     "output_type": "stream",
     "text": [
      "7,14,21,28,35,42,49,56,63,70,77,84,91,98,105,112,119,126,133,140,147,154,161,168,175,182,189,196,203,210,217,224,231,238,245,252,259,266,273,280,287,294,301,308,315,322,329,336,343,350,357,364,371,378,385,392,399,406,413,420,427,434,441,448,455,462,469,476,483,490,497,504,511,518,525,532,539,546,553,560,567,574,581,588,595,602,609,616,623,630,637,644,651,658,665,672,679,686,693,700,707,714,721,728,735,742,749,756,763,770,777,784,791,798,805,812,819,826,833,840,847,854,861,868,875,882,889,896,903,910,917,924,931,938,945,952,959,966,973,980,987,994,"
     ]
    }
   ],
   "source": [
    "for i in range(7,1000,7):\n",
    "        print(i,end=\",\")"
   ]
  },
  {
   "cell_type": "code",
   "execution_count": 35,
   "metadata": {},
   "outputs": [
    {
     "name": "stdout",
     "output_type": "stream",
     "text": [
      "994,987,980,973,966,959,952,945,938,931,924,917,910,903,896,889,882,875,868,861,854,847,840,833,826,819,812,805,798,791,784,777,770,763,756,749,742,735,728,721,714,707,700,693,686,679,672,665,658,651,644,637,630,623,616,609,602,595,588,581,574,567,560,553,546,539,532,525,518,511,504,497,490,483,476,469,462,455,448,441,434,427,420,413,406,399,392,385,378,371,364,357,350,343,336,329,322,315,308,301,294,287,280,273,266,259,252,245,238,231,224,217,210,203,196,189,182,175,168,161,154,147,140,133,126,119,112,105,98,91,84,77,70,63,56,49,42,35,28,21,14,7,"
     ]
    }
   ],
   "source": [
    "for i in range(994,6,-7):\n",
    "   print(i,end=\",\")"
   ]
  },
  {
   "cell_type": "code",
   "execution_count": 41,
   "metadata": {},
   "outputs": [
    {
     "name": "stdout",
     "output_type": "stream",
     "text": [
      "98,96,94,92,90,88,86,84,82,80,78,76,74,72,70,68,66,64,62,60,58,56,54,52,50,"
     ]
    }
   ],
   "source": [
    "for i in range(98,49,-2):\n",
    "   print(i,end=\",\")"
   ]
  },
  {
   "cell_type": "markdown",
   "metadata": {},
   "source": [
    "2)while loop"
   ]
  },
  {
   "cell_type": "code",
   "execution_count": 1,
   "metadata": {},
   "outputs": [
    {
     "name": "stdout",
     "output_type": "stream",
     "text": [
      "1 2 3 4 5 6 7 8 9 10 "
     ]
    }
   ],
   "source": [
    "i=1\n",
    "while(i<=10):\n",
    "    print(i,end=\" \")\n",
    "    i=i+1"
   ]
  },
  {
   "cell_type": "code",
   "execution_count": 4,
   "metadata": {},
   "outputs": [
    {
     "name": "stdout",
     "output_type": "stream",
     "text": [
      "3 6 9 12 15 18 21 24 27 30 33 36 39 42 45 48 51 54 57 60 63 66 69 72 75 78 81 84 87 90 93 96 99 "
     ]
    }
   ],
   "source": [
    "i=3\n",
    "while(i<=100):\n",
    "    print(i,end=\" \")\n",
    "    i=i+3"
   ]
  },
  {
   "cell_type": "code",
   "execution_count": 8,
   "metadata": {},
   "outputs": [
    {
     "name": "stdout",
     "output_type": "stream",
     "text": [
      "99 96 93 90 87 84 81 78 75 72 69 66 63 60 57 54 51 48 45 42 39 36 33 30 27 24 21 18 15 12 9 6 3 "
     ]
    }
   ],
   "source": [
    "i=99\n",
    "while(i>2):\n",
    "    print(i,end=\" \")\n",
    "    i=i-3"
   ]
  },
  {
   "cell_type": "code",
   "execution_count": 1,
   "metadata": {},
   "outputs": [
    {
     "name": "stdout",
     "output_type": "stream",
     "text": [
      "subha\n",
      "s,u,b,h,a,"
     ]
    }
   ],
   "source": [
    "s=input()\n",
    "i=0\n",
    "while(i<len(s)):\n",
    "    print(s[i],end=\",\")\n",
    "    i=i+1\n",
    "    "
   ]
  },
  {
   "cell_type": "code",
   "execution_count": null,
   "metadata": {},
   "outputs": [],
   "source": [
    "#functions to print n natural numbers by using for loop"
   ]
  },
  {
   "cell_type": "markdown",
   "metadata": {},
   "source": [
    "def nat(n):\n",
    "    for i in range(1,n+1):\n",
    "        print(i)\n",
    "nat(10)    "
   ]
  },
  {
   "cell_type": "code",
   "execution_count": 9,
   "metadata": {},
   "outputs": [
    {
     "name": "stdout",
     "output_type": "stream",
     "text": [
      "1\n",
      "2\n",
      "3\n",
      "4\n",
      "5\n",
      "6\n",
      "7\n",
      "8\n",
      "9\n",
      "10\n"
     ]
    }
   ],
   "source": [
    "def nat(n):\n",
    "    i=1\n",
    "    while(i<=n):\n",
    "        print(i)\n",
    "        i=i+1\n",
    "nat (10)    "
   ]
  },
  {
   "cell_type": "code",
   "execution_count": null,
   "metadata": {},
   "outputs": [],
   "source": [
    "#function to print alternate values in a range in a same line"
   ]
  },
  {
   "cell_type": "code",
   "execution_count": 13,
   "metadata": {},
   "outputs": [
    {
     "name": "stdout",
     "output_type": "stream",
     "text": [
      "500,503,506,509,512,515,518,521,524,527,530,533,536,539,542,545,548,"
     ]
    }
   ],
   "source": [
    "def numrange(n):\n",
    "    for i in range(500,550,3):\n",
    "        print(i,end=\",\")\n",
    "numrange(550)"
   ]
  },
  {
   "cell_type": "code",
   "execution_count": 19,
   "metadata": {},
   "outputs": [
    {
     "name": "stdout",
     "output_type": "stream",
     "text": [
      "500 ,503 ,506 ,509 ,512 ,515 ,518 ,521 ,524 ,527 ,530 ,533 ,536 ,539 ,542 ,545 ,548 ,"
     ]
    }
   ],
   "source": [
    "def altnum(start,end):\n",
    "    for i in range(start,end,3):\n",
    "        print(i,end=\" ,\")\n",
    "altnum(500,550)        "
   ]
  },
  {
   "cell_type": "code",
   "execution_count": null,
   "metadata": {},
   "outputs": [],
   "source": [
    "#function to print reverse of given range in the samle line\n",
    "#function to calculate the odd numbers in reverse order\n",
    "#function to calulate the sum of the numbers in given range\n",
    "#funtion to calculate the avg of numbers in the given range"
   ]
  },
  {
   "cell_type": "code",
   "execution_count": 1,
   "metadata": {},
   "outputs": [
    {
     "name": "stdout",
     "output_type": "stream",
     "text": [
      "10,9,8,7,6,5,4,3,2,1,"
     ]
    }
   ],
   "source": [
    "def reversenum(n):\n",
    "    for i in range(n,0,-1):\n",
    "        print(i,end=\",\")\n",
    "reversenum(10)        "
   ]
  },
  {
   "cell_type": "code",
   "execution_count": 9,
   "metadata": {},
   "outputs": [
    {
     "name": "stdout",
     "output_type": "stream",
     "text": [
      "7,5,3,1,"
     ]
    }
   ],
   "source": [
    "def oddnum(n):\n",
    "    for i in range(n,0,-1):\n",
    "        if(i%2!=0):\n",
    "            print(i,end=\",\")\n",
    "oddnum(7)        "
   ]
  },
  {
   "cell_type": "code",
   "execution_count": 20,
   "metadata": {},
   "outputs": [
    {
     "name": "stdout",
     "output_type": "stream",
     "text": [
      "2100\n"
     ]
    }
   ],
   "source": [
    "def addsum(a,b):\n",
    "    sum=0\n",
    "    for i in range(a,b+1,1):\n",
    "        sum=sum+i\n",
    "    print(sum)\n",
    "addsum(90,110)    \n",
    "  "
   ]
  },
  {
   "cell_type": "code",
   "execution_count": 23,
   "metadata": {},
   "outputs": [
    {
     "name": "stdout",
     "output_type": "stream",
     "text": [
      "55\n",
      "5\n"
     ]
    }
   ],
   "source": [
    "def numrange(b):\n",
    "    sum=0\n",
    "    for i in range(1,b+1):\n",
    "        sum=sum+i\n",
    "        avg=sum//b\n",
    "    print(sum)\n",
    "    print(avg)\n",
    "numrange(10)    "
   ]
  },
  {
   "cell_type": "code",
   "execution_count": 7,
   "metadata": {},
   "outputs": [
    {
     "name": "stdout",
     "output_type": "stream",
     "text": [
      "1\n",
      "2\n",
      "3\n",
      "4\n",
      "6\n",
      "12\n",
      "28,"
     ]
    }
   ],
   "source": [
    "def factorsum(n):\n",
    "    sum=0\n",
    "    for i in range(1,n+1):\n",
    "        if(n%i==0):\n",
    "            print(i)        \n",
    "            sum=sum+i\n",
    "    print(sum,end=\",\")\n",
    "factorsum(12)   \n",
    "    "
   ]
  },
  {
   "cell_type": "code",
   "execution_count": null,
   "metadata": {},
   "outputs": [],
   "source": [
    "# to check given number is prime or not?"
   ]
  },
  {
   "cell_type": "code",
   "execution_count": 5,
   "metadata": {},
   "outputs": [
    {
     "name": "stdout",
     "output_type": "stream",
     "text": [
      "Given num is prime\n"
     ]
    }
   ],
   "source": [
    "def checkprimenum(n):\n",
    "    count=0    \n",
    "    for i in range(2,n//2):\n",
    "        if(n%i==0):\n",
    "            count=count+1\n",
    "    if(count==0):\n",
    "        print(\"Given num is prime\")\n",
    "checkprimenum(3)        \n",
    "        "
   ]
  },
  {
   "cell_type": "code",
   "execution_count": null,
   "metadata": {},
   "outputs": [],
   "source": []
  }
 ],
 "metadata": {
  "kernelspec": {
   "display_name": "Python 3",
   "language": "python",
   "name": "python3"
  },
  "language_info": {
   "codemirror_mode": {
    "name": "ipython",
    "version": 3
   },
   "file_extension": ".py",
   "mimetype": "text/x-python",
   "name": "python",
   "nbconvert_exporter": "python",
   "pygments_lexer": "ipython3",
   "version": "3.7.3"
  }
 },
 "nbformat": 4,
 "nbformat_minor": 2
}
