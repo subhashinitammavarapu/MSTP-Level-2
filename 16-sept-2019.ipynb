{
 "cells": [
  {
   "cell_type": "markdown",
   "metadata": {},
   "source": [
    "# Regular Expressions\n",
    "*Syntax:import re*\n",
    "### Methods in Regular Expressions\n",
    "-re.finadall()\n",
    "-re.search()\n",
    "-re.match()\n",
    "-re.finditer()\n",
    "-re.sub()\n",
    "set \"[_]\"-->We can insert set of or group of chars,numbers etc"
   ]
  },
  {
   "cell_type": "code",
   "execution_count": null,
   "metadata": {},
   "outputs": [],
   "source": [
    "# set \"[_]\"-->we can insert set of or group of chars,numbrs etc.\n",
    "#caret\"^g\"-->Starts with\n",
    "#Doller\"$\"-->Ends with\n",
    "# Start \"*\"-->zero or more occurance\n",
    "plus\"+\"--->one or more occurances\n",
    "{}--->Exactly the specified no.of occurance\n",
    "# \" \"-->or\n",
    "#\"''\"-->special sequence\n",
    "# A period \".\"--->Represents a charctor"
   ]
  },
  {
   "cell_type": "code",
   "execution_count": null,
   "metadata": {},
   "outputs": [],
   "source": [
    "--\\A--->character is at begining of string\n",
    "--\\b---->character is at begining or ending of string\n",
    "--\\d--->Any digit\n",
    "---\\D--->non-digit\n",
    "---\\s--->whitespaces\n",
    "----\\S--->non-whitespapces\n",
    "----\\w--->alpha numeric\n",
    "----\\W-->non-alphanumeric(Ex:!@#$%^)"
   ]
  },
  {
   "cell_type": "code",
   "execution_count": 1,
   "metadata": {},
   "outputs": [
    {
     "name": "stdout",
     "output_type": "stream",
     "text": [
      "['h', 'e', 'h', 'g', 'a', 'i', 'g', 'l', 'a', 'g', 'a', 'g', 'e']\n"
     ]
    }
   ],
   "source": [
    "#write a program to find the characters between \"a\" and \"l\"\n",
    "import re\n",
    "string=\"the python programming language\"\n",
    "str2=re.findall(\"[a-l]\",string)\n",
    "print (str2)"
   ]
  },
  {
   "cell_type": "code",
   "execution_count": 7,
   "metadata": {},
   "outputs": [
    {
     "name": "stdout",
     "output_type": "stream",
     "text": [
      "['6', '1', '0', '0']\n",
      "['T', 'h', 'e', ' ', 'c', 'o', 's', 't', ' ', 'o', 'f', ' ', ' ', 'a', 'p', 'p', 'l', 'e', 's', ' ', 'a', 'r', 'e', ' ', ' ', 'R', 's', '#', '@', '%', '^', '&', '*']\n",
      "[' ', ' ', ' ', ' ', ' ', ' ', ' ']\n",
      "['T', 'h', 'e', 'c', 'o', 's', 't', 'o', 'f', '6', 'a', 'p', 'p', 'l', 'e', 's', 'a', 'r', 'e', '1', '0', '0', 'R', 's', '#', '@', '%', '^', '&', '*']\n",
      "['T', 'h', 'e', 'c', 'o', 's', 't', 'o', 'f', '6', 'a', 'p', 'p', 'l', 'e', 's', 'a', 'r', 'e', '1', '0', '0', 'R', 's']\n",
      "[' ', ' ', ' ', ' ', ' ', ' ', ' ', '#', '@', '%', '^', '&', '*']\n"
     ]
    }
   ],
   "source": [
    "# Write a program to find the digits in a given string\n",
    "import re\n",
    "string=\"The cost of 6 apples are 100 Rs#@%^&*\"\n",
    "str2=re.findall(\"\\d\",string)\n",
    "str3=re.findall(\"\\D\",string)\n",
    "str4=re.findall(\"\\s\",string)\n",
    "str5=re.findall(\"\\S\",string)\n",
    "str6=re.findall(\"\\w\",string)\n",
    "str7=re.findall(\"\\W\",string)\n",
    "print(str2)\n",
    "print(str3)\n",
    "print(str4)\n",
    "print(str5)\n",
    "print(str6)\n",
    "print(str7)"
   ]
  },
  {
   "cell_type": "code",
   "execution_count": null,
   "metadata": {},
   "outputs": [],
   "source": [
    "#string which contain more than 10 characters,print 5 charcters in that string"
   ]
  },
  {
   "cell_type": "code",
   "execution_count": 19,
   "metadata": {},
   "outputs": [
    {
     "name": "stdout",
     "output_type": "stream",
     "text": [
      "['progr']\n"
     ]
    }
   ],
   "source": [
    "import re\n",
    "string=\"programming\"\n",
    "str2=re.findall(\"pr...\",string)\n",
    "print(str2)"
   ]
  },
  {
   "cell_type": "code",
   "execution_count": 20,
   "metadata": {},
   "outputs": [
    {
     "name": "stdout",
     "output_type": "stream",
     "text": [
      "['progr']\n"
     ]
    }
   ],
   "source": [
    "import re\n",
    "string=\"programming\"\n",
    "str2=re.findall(\"^p....\",string)\n",
    "print(str2)"
   ]
  },
  {
   "cell_type": "code",
   "execution_count": 21,
   "metadata": {},
   "outputs": [
    {
     "name": "stdout",
     "output_type": "stream",
     "text": [
      "['progr']\n"
     ]
    }
   ],
   "source": [
    "import re\n",
    "string=\"programming\"\n",
    "str2=re.findall(\"^p\\w{4}\",string)\n",
    "print(str2)"
   ]
  },
  {
   "cell_type": "code",
   "execution_count": 15,
   "metadata": {},
   "outputs": [
    {
     "name": "stdout",
     "output_type": "stream",
     "text": [
      "+919951169276\n"
     ]
    },
    {
     "data": {
      "text/plain": [
       "True"
      ]
     },
     "execution_count": 15,
     "metadata": {},
     "output_type": "execute_result"
    }
   ],
   "source": [
    "#phone number Validator\n",
    "import re\n",
    "def phoneNumValidator(number):\n",
    "    p='[6-9][0-9]{9}|^[+][9][1][6-9][0-9]{9}$'\n",
    "    if re.match(p,number):\n",
    "        return True\n",
    "    else:\n",
    "        return False   \n",
    "number=input()\n",
    "phoneNumValidator(number)    "
   ]
  },
  {
   "cell_type": "code",
   "execution_count": null,
   "metadata": {},
   "outputs": [],
   "source": [
    "#phone number Validator\n",
    "import re\n",
    "def phoneNumValidator(number):\n",
    "    p='[6-9][0-9]{9}|^[+][9][1][6-9][0-9]{9}$'\n",
    "    if re.match(p,str(number)):\n",
    "        return True\n",
    "    else:\n",
    "        return False   \n",
    "number=int(input())\n",
    "phoneNumValidator(number)    "
   ]
  },
  {
   "cell_type": "code",
   "execution_count": 13,
   "metadata": {},
   "outputs": [
    {
     "name": "stdout",
     "output_type": "stream",
     "text": [
      "python:programing:language\n"
     ]
    }
   ],
   "source": [
    "#re.sub() method\n",
    "#syntax:re.sub(\"replace value\"\"\"\"\"\")\n",
    "#write a program to replace white space with colon \":\"\n",
    "import re\n",
    "string=\"python programing language\"\n",
    "string2=re.sub('\\s', ':',string)\n",
    "print(string2)"
   ]
  },
  {
   "cell_type": "code",
   "execution_count": 2,
   "metadata": {},
   "outputs": [
    {
     "name": "stdout",
     "output_type": "stream",
     "text": [
      "pythonprograminglanguage\n"
     ]
    }
   ],
   "source": [
    "import re\n",
    "string=\"python programing language\"\n",
    "string2=re.sub('\\s', '',string)\n",
    "print(string2)"
   ]
  },
  {
   "cell_type": "code",
   "execution_count": 4,
   "metadata": {},
   "outputs": [
    {
     "name": "stdout",
     "output_type": "stream",
     "text": [
      "gnmounika5@gmail.com\n"
     ]
    },
    {
     "data": {
      "text/plain": [
       "False"
      ]
     },
     "execution_count": 4,
     "metadata": {},
     "output_type": "execute_result"
    }
   ],
   "source": [
    "import re\n",
    "def validemailid(email):\n",
    "    p='^[a-z][0-9a-z.]{5,15}[@][0-9a-z]{3,8}[.][a-z]{2,4}[.][a-z]{2,3}$'\n",
    "    if re.match(p,email):\n",
    "        return True\n",
    "    else:\n",
    "        return False\n",
    "email=input()\n",
    "validemailid(email)\n"
   ]
  },
  {
   "cell_type": "code",
   "execution_count": null,
   "metadata": {},
   "outputs": [],
   "source": []
  },
  {
   "cell_type": "code",
   "execution_count": null,
   "metadata": {},
   "outputs": [],
   "source": []
  },
  {
   "cell_type": "code",
   "execution_count": null,
   "metadata": {},
   "outputs": [],
   "source": []
  },
  {
   "cell_type": "code",
   "execution_count": null,
   "metadata": {},
   "outputs": [],
   "source": []
  },
  {
   "cell_type": "code",
   "execution_count": null,
   "metadata": {},
   "outputs": [],
   "source": []
  },
  {
   "cell_type": "code",
   "execution_count": null,
   "metadata": {},
   "outputs": [],
   "source": []
  },
  {
   "cell_type": "code",
   "execution_count": null,
   "metadata": {},
   "outputs": [],
   "source": []
  },
  {
   "cell_type": "code",
   "execution_count": null,
   "metadata": {},
   "outputs": [],
   "source": []
  },
  {
   "cell_type": "code",
   "execution_count": null,
   "metadata": {},
   "outputs": [],
   "source": []
  },
  {
   "cell_type": "code",
   "execution_count": null,
   "metadata": {},
   "outputs": [],
   "source": []
  },
  {
   "cell_type": "code",
   "execution_count": null,
   "metadata": {},
   "outputs": [],
   "source": []
  }
 ],
 "metadata": {
  "kernelspec": {
   "display_name": "Python 3",
   "language": "python",
   "name": "python3"
  }
 },
 "nbformat": 4,
 "nbformat_minor": 2
}
